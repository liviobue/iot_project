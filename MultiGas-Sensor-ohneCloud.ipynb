{
 "cells": [
  {
   "cell_type": "code",
   "execution_count": 59,
   "id": "543e6487-ada8-42dc-a748-ac9fcdb58aa5",
   "metadata": {},
   "outputs": [],
   "source": [
    "import datetime\n",
    "import enum\n",
    "import time\n",
    "import dataclasses\n",
    "import struct\n",
    "import math\n",
    "import binascii\n",
    "\n",
    "import smbus\n",
    "import trio\n",
    "#import bokeh.io\n",
    "#import bokeh.plotting\n",
    "#import bokeh as bk\n",
    "import numpy as np\n",
    "import RPi.GPIO as GPIO\n",
    "import httpx\n",
    "\n",
    "#bk.io.output_notebook()\n",
    "%autoawait trio"
   ]
  },
  {
   "cell_type": "code",
   "execution_count": 3,
   "id": "edbcb80d-bdf4-4228-9059-c3d085f681c8",
   "metadata": {},
   "outputs": [],
   "source": [
    "## I2C address select\n",
    "NH3_ADDRESS                = 0x74\n",
    "CO_ADDRESS                 = 0x75\n",
    "O2_ADDRESS                 = 0x76\n",
    "\n",
    "i2cbus = 1"
   ]
  },
  {
   "cell_type": "code",
   "execution_count": 4,
   "id": "bf06f642-abab-454c-a5b6-d340b623897e",
   "metadata": {},
   "outputs": [],
   "source": [
    "buzzerpin = 23\n",
    "ledpin_red = 24\n",
    "ledpin_green = 25"
   ]
  },
  {
   "cell_type": "code",
   "execution_count": 36,
   "id": "50e5fdc1-29b6-40cc-b1fd-9d7e81b3d08f",
   "metadata": {},
   "outputs": [],
   "source": [
    "class CmdCode(enum.Enum):\n",
    "    read_concentration = 0x86\n",
    "    read_temp = 0x87\n",
    "    read_all = 0x88"
   ]
  },
  {
   "cell_type": "code",
   "execution_count": 42,
   "id": "4dad1cc5-d0be-4550-a395-09e0301ab8c6",
   "metadata": {},
   "outputs": [],
   "source": [
    "class SensorType(enum.Enum):\n",
    "    O2         =  0x05\n",
    "    CO         =  0x04\n",
    "    H2S        =  0x03\n",
    "    NO2        =  0x2C\n",
    "    O3         =  0x2A\n",
    "    CL2        =  0x31\n",
    "    NH3        =  0x02\n",
    "    H2         =  0x06\n",
    "    HCL        =  0X2E\n",
    "    SO2        =  0X2B\n",
    "    HF         =  0x33\n",
    "    PH3        =  0x45"
   ]
  },
  {
   "cell_type": "code",
   "execution_count": 43,
   "id": "99b40d0a-d12b-4a00-a57e-473f4d44dd98",
   "metadata": {},
   "outputs": [],
   "source": [
    "@dataclasses.dataclass\n",
    "class SensorData:\n",
    "    gas_concentration: float  # ppm\n",
    "    sensor_type: SensorType\n",
    "    temperature: float        # degree Celsius"
   ]
  },
  {
   "cell_type": "code",
   "execution_count": 76,
   "id": "4ac30fe1-e7e7-4a07-b37c-f7da41e9163a",
   "metadata": {},
   "outputs": [],
   "source": [
    "class MultiGasSensor:\n",
    "    def __init__(self, bus_number: int, i2c_address: int, expected_sensor_type: SensorType | None = None):\n",
    "        self.i2c_bus = smbus.SMBus(bus_number)\n",
    "        self.i2c_address = i2c_address\n",
    "        self.expected_sensor_type = expected_sensor_type\n",
    "\n",
    "    \n",
    "    @classmethod\n",
    "    def calc_check_sum(cls, data:bytes)->int:\n",
    "        return (~sum(data)+1) & 0xff\n",
    "\n",
    "    \n",
    "    def command(self, code: CmdCode, *args:bytes) -> bytes:\n",
    "        data = bytes([0xFF, 0x01, code.value]) + b\"\".join(args)\n",
    "        data += b\"\\x00\"*(8-len(data))\n",
    "        data += bytes([self.calc_check_sum(data[1:-1])])\n",
    "        self.i2c_bus.write_i2c_block_data(self.i2c_address, 0, list(data))\n",
    "        time.sleep(0.1)                                                         # TO-DO: async-sleept machen\n",
    "        \n",
    "        result = self.i2c_bus.read_i2c_block_data(self.i2c_address, 0, 9)\n",
    "        result = bytes(result)\n",
    "        result_str = binascii.hexlify(result,\" \",1)\n",
    "        \n",
    "        assert result[0] == 0xFF, result_str\n",
    "        assert result[1] == code.value, result_str\n",
    "        assert result[8] == self.calc_check_sum(result[1:-2]), f\"CRC failure: received 0x{result[8]:02x}, calculated 0x{calc_check_sum(result[1:-1]):02x}, ({result_str})\"\n",
    "\n",
    "        return result[2:-1]\n",
    "\n",
    "    \n",
    "    def read_all(self) -> SensorData:\n",
    "        result = self.command(CmdCode.read_all)\n",
    "\n",
    "        # '>': big-endian encoded struct (MSB first: most significant byte first);\n",
    "        # 'H': 2 Bytes unsigned integer (\"half long integer\")\n",
    "        # 'B': 1 Byte unsigned integer  (\"byte\")\n",
    "        gas_concentration_raw, sensor_type, decimal_places, temperature_raw = struct.unpack(\">HBBH\", result)\n",
    "        gas_concentration = gas_concentration_raw * 10**-decimal_places\n",
    "        sensor_type = SensorType(sensor_type)\n",
    "   \n",
    "        Vpd3 = 3*temperature_raw/1024 # Spannung in Volt\n",
    "        Rth = Vpd3*10000/(3-Vpd3) # Spannung mit Spannnungsteiler vonem 10k-Widerstand\n",
    "        temperature = 1/(1/(273.15+25)+1/3380.13*(math.log(Rth/10000)))-273.15 # Transfer-Kurve von temperaturfühler mit 10kOhm bei 25°C und alpha-Wert von 3380.13\n",
    "\n",
    "        if self.expected_sensor_type is not None:\n",
    "            assert sensor_type == self.expected_sensor_type\n",
    "        \n",
    "        return SensorData(\n",
    "            gas_concentration=gas_concentration,\n",
    "            sensor_type=sensor_type,\n",
    "            temperature=temperature,\n",
    "        )"
   ]
  },
  {
   "cell_type": "code",
   "execution_count": 77,
   "id": "e1cf475a-dad8-44bf-b3cc-c3f52ac42164",
   "metadata": {},
   "outputs": [],
   "source": [
    "nice_NH3 = MultiGasSensor(i2cbus, NH3_ADDRESS, SensorType.NH3)\n",
    "nice_CO = MultiGasSensor(i2cbus, CO_ADDRESS, SensorType.CO)"
   ]
  },
  {
   "cell_type": "code",
   "execution_count": 83,
   "id": "95f84a88-ce43-430b-b066-50e1727abe92",
   "metadata": {},
   "outputs": [
    {
     "name": "stdout",
     "output_type": "stream",
     "text": [
      "SensorData(gas_concentration=0, sensor_type=<SensorType.CO: 4>, temperature=28.222990369665126)\n",
      "SensorData(gas_concentration=0, sensor_type=<SensorType.NH3: 2>, temperature=28.328388829909784)\n"
     ]
    }
   ],
   "source": [
    "print(nice_CO.read_all())\n",
    "print(nice_NH3.read_all())"
   ]
  },
  {
   "cell_type": "code",
   "execution_count": 4,
   "id": "258c3059-1bb5-40f4-9de2-5a3e9c111194",
   "metadata": {},
   "outputs": [],
   "source": [
    "def setup():\n",
    "    GPIO.setmode(GPIO.BCM) # use LOGICAL GPIO Numbering\n",
    "    GPIO.setup(ledpin_red, GPIO.OUT) # set the red ledPin to OUTPUT mode\n",
    "    GPIO.output(ledpin_red, GPIO.LOW) # make red ledPin output LOW level\n",
    "    GPIO.setup(ledpin_green, GPIO.OUT) # set the green ledPin to OUTPUT mode\n",
    "    GPIO.output(ledpin_green, GPIO.HIGH) # make green ledPin output HIGH level\n",
    "    GPIO.setup(buzzerpin, GPIO.OUT) # set buzzerPin to OUTPUT modea"
   ]
  },
  {
   "cell_type": "code",
   "execution_count": 5,
   "id": "a53c071f-daaf-4527-9f97-d814f199ebbe",
   "metadata": {},
   "outputs": [],
   "source": [
    "def aggregate_data(alldata):\n",
    "    time = np.array([time for time, data in alldata])\n",
    "    data = np.array([data for time, data in alldata])\n",
    "\n",
    "    min = data.min()\n",
    "    max = data.max()\n",
    "    avg = data.mean()\n",
    "    start_time, _ = alldata[0]\n",
    "\n",
    "    aggregation = dict(\n",
    "        time=start_time,\n",
    "        min=min,\n",
    "        max=max,\n",
    "        avg=avg,\n",
    "    )\n",
    "    \n",
    "    return aggregation"
   ]
  },
  {
   "cell_type": "code",
   "execution_count": 6,
   "id": "574b2f67-9ab4-43ba-9a71-e8fa98d7eb21",
   "metadata": {},
   "outputs": [],
   "source": [
    "def read_oxygen(i2cbus, address):\n",
    "    result = i2cbus.read_i2c_block_data(address, OXYGEN_DATA_REGISTER, 3)\n",
    "    return calibration_factor * (result[0] + result[1] / 10 + result[2] / 100) # Encoding des Sensors - siehe Dokumentation"
   ]
  },
  {
   "cell_type": "code",
   "execution_count": 16,
   "id": "2706e4ba-02ef-4614-801e-38e9945fe568",
   "metadata": {},
   "outputs": [],
   "source": [
    "async def alert():\n",
    "    while True:\n",
    "        if low_oxygen:\n",
    "            GPIO.output(ledpin_green, GPIO.LOW)\n",
    "            GPIO.output(ledpin_red, GPIO.HIGH)\n",
    "            GPIO.output(buzzerpin, GPIO.HIGH)\n",
    "            await trio.sleep(0.5)\n",
    "            GPIO.output(ledpin_red, GPIO.LOW)\n",
    "            GPIO.output(buzzerpin, GPIO.LOW)\n",
    "            await trio.sleep(0.5)\n",
    "        else:\n",
    "            GPIO.output(ledpin_green, GPIO.HIGH)\n",
    "            GPIO.output(ledpin_red, GPIO.LOW)\n",
    "            GPIO.output(buzzerpin, GPIO.LOW)\n",
    "            await trio.sleep(0.1)"
   ]
  },
  {
   "cell_type": "code",
   "execution_count": 17,
   "id": "038e6dfe-bb99-4bea-ac10-674a7e4aca78",
   "metadata": {},
   "outputs": [],
   "source": [
    "def fig_setup():\n",
    "    fig = bk.plotting.figure(x_axis_type=\"datetime\")\n",
    "    time = np.array([], dtype=np.datetime64)\n",
    "    ds = bk.models.ColumnDataSource(data=dict(time=time,oxygenlevel=[])) # like empty df\n",
    "    fig.line(x=\"time\",y=\"oxygenlevel\",source=ds)\n",
    "    handle = bk.io.show(fig,notebook_handle=True) # um Daten nachzuschieben im Notebook\n",
    "\n",
    "    return ds, handle"
   ]
  },
  {
   "cell_type": "code",
   "execution_count": 18,
   "id": "53907405-a2c5-4a88-8b58-457c2aec4501",
   "metadata": {},
   "outputs": [],
   "source": [
    "def plot(ds, handle, time, oxygen):\n",
    "    ds.stream(dict(time=[time],oxygenlevel=[oxygen]),rollover=600) # Neue Daten werden an das Ende der Kolonnen angehängt, ab 600 werden die ältesten Daten herausgeworfen\n",
    "    bk.io.push_notebook(handle=handle)"
   ]
  },
  {
   "cell_type": "code",
   "execution_count": 19,
   "id": "00701966-49ff-4d91-9ca9-aeed9e1f2e9e",
   "metadata": {},
   "outputs": [],
   "source": [
    "async def measurement(*,measurement_interval=0.1, aggregation_interval=10):\n",
    "    \n",
    "    global low_oxygen\n",
    "    ds, handle = fig_setup()\n",
    "    next_measurement = trio.current_time()+measurement_interval\n",
    "    next_aggregation = trio.current_time()+aggregation_interval\n",
    "    \n",
    "    while True:\n",
    "        alldata = [] # um alle Daten zu speichern (!Überlegen wegen Memory)   \n",
    "        \n",
    "        while trio.current_time()<next_aggregation:      \n",
    "            try:\n",
    "                time = np.datetime64(datetime.datetime.now())\n",
    "                oxygen = read_oxygen(i2cbus, address)\n",
    "            except Exception as ex:\n",
    "                print(f'{ex!r} - retry')\n",
    "                await trio.sleep(0.05)\n",
    "                continue\n",
    "    \n",
    "            alldata.append((time, oxygen))\n",
    "            \n",
    "            plot(ds, handle, time, oxygen)\n",
    "            low_oxygen = oxygen<20\n",
    "            \n",
    "            await trio.sleep_until(next_measurement)\n",
    "            next_measurement += measurement_interval\n",
    "\n",
    "        next_aggregation += aggregation_interval\n",
    "        aggregation = aggregate_data(alldata)\n",
    "        print(aggregation)"
   ]
  },
  {
   "cell_type": "code",
   "execution_count": 20,
   "id": "a1b5d2b5-5179-4882-997d-5a3b9d1c79ce",
   "metadata": {},
   "outputs": [],
   "source": [
    "low_oxygen = False"
   ]
  },
  {
   "cell_type": "code",
   "execution_count": 21,
   "id": "4ff287cf-e3f2-4225-b5ed-94ac5890f0ce",
   "metadata": {},
   "outputs": [
    {
     "data": {
      "text/html": [
       "\n",
       "  <div id=\"f8616791-2aaa-476a-ab76-1ba180d4d251\" data-root-id=\"p2901\" style=\"display: contents;\"></div>\n"
      ]
     },
     "metadata": {},
     "output_type": "display_data"
    },
    {
     "data": {
      "application/javascript": [
       "(function(root) {\n",
       "  function embed_document(root) {\n",
       "  const docs_json = {\"acf84ced-4a5f-4f27-9fd2-ab62edae247e\":{\"version\":\"3.3.4\",\"title\":\"Bokeh Application\",\"roots\":[{\"type\":\"object\",\"name\":\"Figure\",\"id\":\"p2901\",\"attributes\":{\"x_range\":{\"type\":\"object\",\"name\":\"DataRange1d\",\"id\":\"p2902\"},\"y_range\":{\"type\":\"object\",\"name\":\"DataRange1d\",\"id\":\"p2903\"},\"x_scale\":{\"type\":\"object\",\"name\":\"LinearScale\",\"id\":\"p2910\"},\"y_scale\":{\"type\":\"object\",\"name\":\"LinearScale\",\"id\":\"p2911\"},\"title\":{\"type\":\"object\",\"name\":\"Title\",\"id\":\"p2908\"},\"renderers\":[{\"type\":\"object\",\"name\":\"GlyphRenderer\",\"id\":\"p2954\",\"attributes\":{\"data_source\":{\"type\":\"object\",\"name\":\"ColumnDataSource\",\"id\":\"p2945\",\"attributes\":{\"selected\":{\"type\":\"object\",\"name\":\"Selection\",\"id\":\"p2946\",\"attributes\":{\"indices\":[],\"line_indices\":[]}},\"selection_policy\":{\"type\":\"object\",\"name\":\"UnionRenderers\",\"id\":\"p2947\"},\"data\":{\"type\":\"map\",\"entries\":[[\"time\",{\"type\":\"ndarray\",\"array\":{\"type\":\"bytes\",\"data\":\"\"},\"shape\":[0],\"dtype\":\"float64\",\"order\":\"little\"}],[\"oxygenlevel\",[]]]}}},\"view\":{\"type\":\"object\",\"name\":\"CDSView\",\"id\":\"p2955\",\"attributes\":{\"filter\":{\"type\":\"object\",\"name\":\"AllIndices\",\"id\":\"p2956\"}}},\"glyph\":{\"type\":\"object\",\"name\":\"Line\",\"id\":\"p2951\",\"attributes\":{\"x\":{\"type\":\"field\",\"field\":\"time\"},\"y\":{\"type\":\"field\",\"field\":\"oxygenlevel\"},\"line_color\":\"#1f77b4\"}},\"nonselection_glyph\":{\"type\":\"object\",\"name\":\"Line\",\"id\":\"p2952\",\"attributes\":{\"x\":{\"type\":\"field\",\"field\":\"time\"},\"y\":{\"type\":\"field\",\"field\":\"oxygenlevel\"},\"line_color\":\"#1f77b4\",\"line_alpha\":0.1}},\"muted_glyph\":{\"type\":\"object\",\"name\":\"Line\",\"id\":\"p2953\",\"attributes\":{\"x\":{\"type\":\"field\",\"field\":\"time\"},\"y\":{\"type\":\"field\",\"field\":\"oxygenlevel\"},\"line_color\":\"#1f77b4\",\"line_alpha\":0.2}}}}],\"toolbar\":{\"type\":\"object\",\"name\":\"Toolbar\",\"id\":\"p2909\",\"attributes\":{\"tools\":[{\"type\":\"object\",\"name\":\"PanTool\",\"id\":\"p2934\"},{\"type\":\"object\",\"name\":\"WheelZoomTool\",\"id\":\"p2935\",\"attributes\":{\"renderers\":\"auto\"}},{\"type\":\"object\",\"name\":\"BoxZoomTool\",\"id\":\"p2936\",\"attributes\":{\"overlay\":{\"type\":\"object\",\"name\":\"BoxAnnotation\",\"id\":\"p2937\",\"attributes\":{\"syncable\":false,\"level\":\"overlay\",\"visible\":false,\"left\":{\"type\":\"number\",\"value\":\"nan\"},\"right\":{\"type\":\"number\",\"value\":\"nan\"},\"top\":{\"type\":\"number\",\"value\":\"nan\"},\"bottom\":{\"type\":\"number\",\"value\":\"nan\"},\"left_units\":\"canvas\",\"right_units\":\"canvas\",\"top_units\":\"canvas\",\"bottom_units\":\"canvas\",\"line_color\":\"black\",\"line_alpha\":1.0,\"line_width\":2,\"line_dash\":[4,4],\"fill_color\":\"lightgrey\",\"fill_alpha\":0.5}}}},{\"type\":\"object\",\"name\":\"SaveTool\",\"id\":\"p2942\"},{\"type\":\"object\",\"name\":\"ResetTool\",\"id\":\"p2943\"},{\"type\":\"object\",\"name\":\"HelpTool\",\"id\":\"p2944\"}]}},\"left\":[{\"type\":\"object\",\"name\":\"LinearAxis\",\"id\":\"p2929\",\"attributes\":{\"ticker\":{\"type\":\"object\",\"name\":\"BasicTicker\",\"id\":\"p2930\",\"attributes\":{\"mantissas\":[1,2,5]}},\"formatter\":{\"type\":\"object\",\"name\":\"BasicTickFormatter\",\"id\":\"p2931\"},\"major_label_policy\":{\"type\":\"object\",\"name\":\"AllLabels\",\"id\":\"p2932\"}}}],\"below\":[{\"type\":\"object\",\"name\":\"DatetimeAxis\",\"id\":\"p2912\",\"attributes\":{\"ticker\":{\"type\":\"object\",\"name\":\"DatetimeTicker\",\"id\":\"p2913\",\"attributes\":{\"num_minor_ticks\":5,\"tickers\":[{\"type\":\"object\",\"name\":\"AdaptiveTicker\",\"id\":\"p2914\",\"attributes\":{\"num_minor_ticks\":0,\"mantissas\":[1,2,5],\"max_interval\":500.0}},{\"type\":\"object\",\"name\":\"AdaptiveTicker\",\"id\":\"p2915\",\"attributes\":{\"num_minor_ticks\":0,\"base\":60,\"mantissas\":[1,2,5,10,15,20,30],\"min_interval\":1000.0,\"max_interval\":1800000.0}},{\"type\":\"object\",\"name\":\"AdaptiveTicker\",\"id\":\"p2916\",\"attributes\":{\"num_minor_ticks\":0,\"base\":24,\"mantissas\":[1,2,4,6,8,12],\"min_interval\":3600000.0,\"max_interval\":43200000.0}},{\"type\":\"object\",\"name\":\"DaysTicker\",\"id\":\"p2917\",\"attributes\":{\"days\":[1,2,3,4,5,6,7,8,9,10,11,12,13,14,15,16,17,18,19,20,21,22,23,24,25,26,27,28,29,30,31]}},{\"type\":\"object\",\"name\":\"DaysTicker\",\"id\":\"p2918\",\"attributes\":{\"days\":[1,4,7,10,13,16,19,22,25,28]}},{\"type\":\"object\",\"name\":\"DaysTicker\",\"id\":\"p2919\",\"attributes\":{\"days\":[1,8,15,22]}},{\"type\":\"object\",\"name\":\"DaysTicker\",\"id\":\"p2920\",\"attributes\":{\"days\":[1,15]}},{\"type\":\"object\",\"name\":\"MonthsTicker\",\"id\":\"p2921\",\"attributes\":{\"months\":[0,1,2,3,4,5,6,7,8,9,10,11]}},{\"type\":\"object\",\"name\":\"MonthsTicker\",\"id\":\"p2922\",\"attributes\":{\"months\":[0,2,4,6,8,10]}},{\"type\":\"object\",\"name\":\"MonthsTicker\",\"id\":\"p2923\",\"attributes\":{\"months\":[0,4,8]}},{\"type\":\"object\",\"name\":\"MonthsTicker\",\"id\":\"p2924\",\"attributes\":{\"months\":[0,6]}},{\"type\":\"object\",\"name\":\"YearsTicker\",\"id\":\"p2925\"}]}},\"formatter\":{\"type\":\"object\",\"name\":\"DatetimeTickFormatter\",\"id\":\"p2926\"},\"major_label_policy\":{\"type\":\"object\",\"name\":\"AllLabels\",\"id\":\"p2927\"}}}],\"center\":[{\"type\":\"object\",\"name\":\"Grid\",\"id\":\"p2928\",\"attributes\":{\"axis\":{\"id\":\"p2912\"}}},{\"type\":\"object\",\"name\":\"Grid\",\"id\":\"p2933\",\"attributes\":{\"dimension\":1,\"axis\":{\"id\":\"p2929\"}}}]}}]}};\n",
       "  const render_items = [{\"docid\":\"acf84ced-4a5f-4f27-9fd2-ab62edae247e\",\"roots\":{\"p2901\":\"f8616791-2aaa-476a-ab76-1ba180d4d251\"},\"root_ids\":[\"p2901\"],\"notebook_comms_target\":\"p2957\"}];\n",
       "  root.Bokeh.embed.embed_items_notebook(docs_json, render_items);\n",
       "  }\n",
       "  if (root.Bokeh !== undefined) {\n",
       "    embed_document(root);\n",
       "  } else {\n",
       "    let attempts = 0;\n",
       "    const timer = setInterval(function(root) {\n",
       "      if (root.Bokeh !== undefined) {\n",
       "        clearInterval(timer);\n",
       "        embed_document(root);\n",
       "      } else {\n",
       "        attempts++;\n",
       "        if (attempts > 100) {\n",
       "          clearInterval(timer);\n",
       "          console.log(\"Bokeh: ERROR: Unable to run BokehJS code because BokehJS library is missing\");\n",
       "        }\n",
       "      }\n",
       "    }, 10, root)\n",
       "  }\n",
       "})(window);"
      ],
      "application/vnd.bokehjs_exec.v0+json": ""
     },
     "metadata": {
      "application/vnd.bokehjs_exec.v0+json": {
       "id": "p2901"
      }
     },
     "output_type": "display_data"
    },
    {
     "name": "stdout",
     "output_type": "stream",
     "text": [
      "{'time': numpy.datetime64('2024-03-06T17:19:52.837759'), 'min': 19.358333333333334, 'max': 43.95300000000001, 'avg': 20.869625000000006}\n"
     ]
    },
    {
     "ename": "KeyboardInterrupt",
     "evalue": "",
     "output_type": "error",
     "traceback": [
      "\u001b[0;31m---------------------------------------------------------------------------\u001b[0m",
      "\u001b[0;31mKeyboardInterrupt\u001b[0m                         Traceback (most recent call last)",
      "Cell \u001b[0;32mIn[21], line 4\u001b[0m\n\u001b[1;32m      1\u001b[0m setup()\n\u001b[1;32m      3\u001b[0m \u001b[38;5;28;01mtry\u001b[39;00m: \n\u001b[0;32m----> 4\u001b[0m     \u001b[38;5;28;01masync\u001b[39;00m \u001b[38;5;28;01mwith\u001b[39;00m trio\u001b[38;5;241m.\u001b[39mopen_nursery() \u001b[38;5;28;01mas\u001b[39;00m nursery:\n\u001b[1;32m      5\u001b[0m         nursery\u001b[38;5;241m.\u001b[39mstart_soon(alert)\n\u001b[1;32m      6\u001b[0m         nursery\u001b[38;5;241m.\u001b[39mstart_soon(measurement)\n",
      "File \u001b[0;32m~/.pyenv/versions/3.12.1/lib/python3.12/site-packages/trio/_core/_run.py:971\u001b[0m, in \u001b[0;36mNurseryManager.__aexit__\u001b[0;34m(self, etype, exc, tb)\u001b[0m\n\u001b[1;32m    969\u001b[0m old_context \u001b[38;5;241m=\u001b[39m combined_error_from_nursery\u001b[38;5;241m.\u001b[39m__context__\n\u001b[1;32m    970\u001b[0m \u001b[38;5;28;01mtry\u001b[39;00m:\n\u001b[0;32m--> 971\u001b[0m     \u001b[38;5;28;01mraise\u001b[39;00m combined_error_from_nursery\n\u001b[1;32m    972\u001b[0m \u001b[38;5;28;01mfinally\u001b[39;00m:\n\u001b[1;32m    973\u001b[0m     _, value, _ \u001b[38;5;241m=\u001b[39m sys\u001b[38;5;241m.\u001b[39mexc_info()\n",
      "File \u001b[0;32m~/.pyenv/versions/3.12.1/lib/python3.12/site-packages/trio/_core/_run.py:1448\u001b[0m, in \u001b[0;36mTask._attempt_delivery_of_pending_ki.<locals>.raise_cancel\u001b[0;34m()\u001b[0m\n\u001b[1;32m   1446\u001b[0m \u001b[38;5;28;01mdef\u001b[39;00m \u001b[38;5;21mraise_cancel\u001b[39m() \u001b[38;5;241m-\u001b[39m\u001b[38;5;241m>\u001b[39m NoReturn:\n\u001b[1;32m   1447\u001b[0m     \u001b[38;5;28mself\u001b[39m\u001b[38;5;241m.\u001b[39m_runner\u001b[38;5;241m.\u001b[39mki_pending \u001b[38;5;241m=\u001b[39m \u001b[38;5;28;01mFalse\u001b[39;00m\n\u001b[0;32m-> 1448\u001b[0m     \u001b[38;5;28;01mraise\u001b[39;00m \u001b[38;5;167;01mKeyboardInterrupt\u001b[39;00m\n",
      "\u001b[0;31mKeyboardInterrupt\u001b[0m: "
     ]
    }
   ],
   "source": [
    "setup()\n",
    "\n",
    "try: \n",
    "    async with trio.open_nursery() as nursery:\n",
    "        nursery.start_soon(alert)\n",
    "        nursery.start_soon(measurement)\n",
    "finally:\n",
    "    GPIO.cleanup()"
   ]
  },
  {
   "cell_type": "code",
   "execution_count": null,
   "id": "bc4185ed-8083-4e66-a2f4-8810d6e7b350",
   "metadata": {},
   "outputs": [],
   "source": []
  }
 ],
 "metadata": {
  "kernelspec": {
   "display_name": "Python 3 (ipykernel)",
   "language": "python",
   "name": "python3"
  },
  "language_info": {
   "codemirror_mode": {
    "name": "ipython",
    "version": 3
   },
   "file_extension": ".py",
   "mimetype": "text/x-python",
   "name": "python",
   "nbconvert_exporter": "python",
   "pygments_lexer": "ipython3",
   "version": "3.12.1"
  }
 },
 "nbformat": 4,
 "nbformat_minor": 5
}
